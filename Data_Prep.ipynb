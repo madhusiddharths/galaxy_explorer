{
 "cells": [
  {
   "cell_type": "code",
   "id": "b59c1e79-4189-4b89-b88b-a048141dc323",
   "metadata": {
    "ExecuteTime": {
     "end_time": "2025-07-15T18:29:36.931057Z",
     "start_time": "2025-07-15T18:29:32.890658Z"
    }
   },
   "source": [
    "import pandas as pd\n",
    "df = pd.read_parquet('/Volumes/One Touch/bigdata/data/gaia_dr3_col_removed/gaia_filtered_000000_003111.parquet', engine=\"pyarrow\")"
   ],
   "outputs": [],
   "execution_count": 16
  },
  {
   "cell_type": "code",
   "id": "a1f996c9-507a-4d82-9448-a22adcb96739",
   "metadata": {
    "ExecuteTime": {
     "end_time": "2025-07-15T18:10:50.632571Z",
     "start_time": "2025-07-15T18:10:50.551719Z"
    }
   },
   "source": [
    "df = df.dropna(subset=[\n",
    "    'phot_g_mean_mag',\n",
    "    'phot_bp_mean_mag',\n",
    "    'phot_rp_mean_mag',\n",
    "    'has_rvs',\n",
    "    'parallax',\n",
    "    'pmra',\n",
    "    'pmdec'\n",
    "])\n"
   ],
   "outputs": [],
   "execution_count": 4
  },
  {
   "cell_type": "code",
   "id": "4dedee03-d86f-483a-aff1-d1c695a22dd9",
   "metadata": {
    "ExecuteTime": {
     "end_time": "2025-07-15T18:10:51.317406Z",
     "start_time": "2025-07-15T18:10:51.308129Z"
    }
   },
   "source": [
    "df[\"total_scan_strength\"] = (\n",
    "    df[\"scan_direction_strength_k1\"] +\n",
    "    df[\"scan_direction_strength_k2\"] +\n",
    "    df[\"scan_direction_strength_k3\"] +\n",
    "    df[\"scan_direction_strength_k4\"]\n",
    ")\n",
    "df[\"scan_diversity_ratio\"] = df[\"scan_direction_strength_k1\"] / df[\"total_scan_strength\"]\n",
    "df[\"bp_rp\"] = df[\"phot_bp_mean_mag\"] - df[\"phot_rp_mean_mag\"]\n"
   ],
   "outputs": [
    {
     "name": "stderr",
     "output_type": "stream",
     "text": [
      "/var/folders/gj/9sd3x0jd1bj4rfh9fn8fm4lr0000gn/T/ipykernel_78015/2538002004.py:1: SettingWithCopyWarning: \n",
      "A value is trying to be set on a copy of a slice from a DataFrame.\n",
      "Try using .loc[row_indexer,col_indexer] = value instead\n",
      "\n",
      "See the caveats in the documentation: https://pandas.pydata.org/pandas-docs/stable/user_guide/indexing.html#returning-a-view-versus-a-copy\n",
      "  df[\"total_scan_strength\"] = (\n",
      "/var/folders/gj/9sd3x0jd1bj4rfh9fn8fm4lr0000gn/T/ipykernel_78015/2538002004.py:7: SettingWithCopyWarning: \n",
      "A value is trying to be set on a copy of a slice from a DataFrame.\n",
      "Try using .loc[row_indexer,col_indexer] = value instead\n",
      "\n",
      "See the caveats in the documentation: https://pandas.pydata.org/pandas-docs/stable/user_guide/indexing.html#returning-a-view-versus-a-copy\n",
      "  df[\"scan_diversity_ratio\"] = df[\"scan_direction_strength_k1\"] / df[\"total_scan_strength\"]\n",
      "/var/folders/gj/9sd3x0jd1bj4rfh9fn8fm4lr0000gn/T/ipykernel_78015/2538002004.py:8: SettingWithCopyWarning: \n",
      "A value is trying to be set on a copy of a slice from a DataFrame.\n",
      "Try using .loc[row_indexer,col_indexer] = value instead\n",
      "\n",
      "See the caveats in the documentation: https://pandas.pydata.org/pandas-docs/stable/user_guide/indexing.html#returning-a-view-versus-a-copy\n",
      "  df[\"bp_rp\"] = df[\"phot_bp_mean_mag\"] - df[\"phot_rp_mean_mag\"]\n"
     ]
    }
   ],
   "execution_count": 5
  },
  {
   "cell_type": "code",
   "id": "37743235-3ea5-4983-a046-e74d6f2d9027",
   "metadata": {
    "ExecuteTime": {
     "end_time": "2025-07-15T18:09:32.176468Z",
     "start_time": "2025-07-15T18:09:32.171748Z"
    }
   },
   "source": "df.columns",
   "outputs": [
    {
     "data": {
      "text/plain": [
       "Index(['astrometric_n_good_obs_al', 'astrometric_n_bad_obs_al',\n",
       "       'astrometric_n_obs_al', 'astrometric_gof_al',\n",
       "       'astrometric_excess_noise', 'astrometric_params_solved',\n",
       "       'astrometric_primary_flag', 'astrometric_matched_transits',\n",
       "       'visibility_periods_used', 'astrometric_sigma5d_max', 'ruwe',\n",
       "       'ipd_gof_harmonic_amplitude', 'ipd_frac_multi_peak', 'ipd_frac_odd_win',\n",
       "       'scan_direction_strength_k1', 'scan_direction_strength_k2',\n",
       "       'scan_direction_strength_k3', 'scan_direction_strength_k4',\n",
       "       'duplicated_source', 'phot_g_mean_flux_over_error',\n",
       "       'phot_bp_mean_flux_over_error', 'phot_rp_mean_flux_over_error',\n",
       "       'phot_bp_n_contaminated_transits', 'phot_rp_n_contaminated_transits',\n",
       "       'phot_bp_n_blended_transits', 'phot_rp_n_blended_transits',\n",
       "       'phot_bp_rp_excess_factor', 'bp_rp', 'bp_g', 'g_rp', 'radial_velocity',\n",
       "       'radial_velocity_error', 'rv_nb_transits', 'rv_visibility_periods_used',\n",
       "       'rv_expected_sig_to_noise', 'rv_renormalised_gof', 'rv_chisq_pvalue',\n",
       "       'rv_template_teff', 'rv_template_logg', 'rv_template_fe_h',\n",
       "       'rv_atm_param_origin', 'vbroad', 'vbroad_error', 'vbroad_nb_transits',\n",
       "       'grvs_mag_error', 'grvs_mag_nb_transits', 'rvs_spec_sig_to_noise',\n",
       "       'phot_variable_flag', 'ra', 'dec', 'l', 'b', 'ecl_lon', 'ecl_lat',\n",
       "       'in_qso_candidates', 'in_galaxy_candidates', 'non_single_star',\n",
       "       'classprob_dsc_combmod_star', 'classprob_dsc_combmod_galaxy',\n",
       "       'classprob_dsc_combmod_quasar', 'has_rvs', 'has_xp_sampled',\n",
       "       'has_mcmc_gspphot', 'teff_gspphot', 'teff_gspphot_lower',\n",
       "       'teff_gspphot_upper', 'logg_gspphot', 'logg_gspphot_lower',\n",
       "       'logg_gspphot_upper', 'mh_gspphot', 'mh_gspphot_lower',\n",
       "       'mh_gspphot_upper', 'distance_gspphot', 'distance_gspphot_lower',\n",
       "       'distance_gspphot_upper', 'azero_gspphot', 'ag_gspphot',\n",
       "       'ebpminrp_gspphot', 'phot_g_mean_mag', 'phot_bp_mean_mag',\n",
       "       'phot_rp_mean_mag', 'grvs_mag', 'designation', 'pmra', 'pmdec',\n",
       "       'parallax'],\n",
       "      dtype='object')"
      ]
     },
     "execution_count": 3,
     "metadata": {},
     "output_type": "execute_result"
    }
   ],
   "execution_count": 3
  },
  {
   "cell_type": "code",
   "execution_count": null,
   "id": "a313bfc3-e419-4659-885a-756dc55484fe",
   "metadata": {},
   "outputs": [],
   "source": []
  },
  {
   "cell_type": "code",
   "id": "42b7965c-7b76-4dcf-bc34-2f1594d87769",
   "metadata": {
    "ExecuteTime": {
     "end_time": "2025-07-15T18:10:56.402985Z",
     "start_time": "2025-07-15T18:10:56.367396Z"
    }
   },
   "source": [
    "columns_to_drop = [\n",
    "    'radial_velocity',\n",
    "    'radial_velocity_error',\n",
    "    'rv_nb_transits',\n",
    "    'rv_visibility_periods_used',\n",
    "    'rv_expected_sig_to_noise',\n",
    "    'rv_renormalised_gof',\n",
    "    'rv_chisq_pvalue',\n",
    "    'rv_template_teff',\n",
    "    'rv_template_logg',\n",
    "    'rv_template_fe_h',\n",
    "    'rv_atm_param_origin',\n",
    "    'vbroad',\n",
    "    'vbroad_error',\n",
    "    'vbroad_nb_transits',\n",
    "    'grvs_mag_error',\n",
    "    'grvs_mag_nb_transits',\n",
    "    'rvs_spec_sig_to_noise',\n",
    "    'grvs_mag',\n",
    "    'classprob_dsc_combmod_star',\n",
    "    \"scan_direction_strength_k1\",\n",
    "    \"scan_direction_strength_k2\",\n",
    "    \"scan_direction_strength_k3\",\n",
    "    \"scan_direction_strength_k4\",\n",
    "    \"total_scan_strength\",'classprob_dsc_combmod_star', 'teff_gspphot_lower', 'teff_gspphot_upper',\n",
    "     'logg_gspphot_lower', 'logg_gspphot_upper',\n",
    "     'mh_gspphot_lower', 'mh_gspphot_upper',\n",
    "     'distance_gspphot_lower', 'distance_gspphot_upper',\n",
    "    'azero_gspphot', 'ag_gspphot', 'ebpminrp_gspphot',\n",
    "\n",
    "    'teff_gspphot','logg_gspphot','mh_gspphot','distance_gspphot',\n",
    "\n",
    "    'phot_variable_flag'\n",
    "    \n",
    "]\n",
    "\n",
    "df.drop(columns=columns_to_drop, inplace=True)\n"
   ],
   "outputs": [
    {
     "name": "stderr",
     "output_type": "stream",
     "text": [
      "/var/folders/gj/9sd3x0jd1bj4rfh9fn8fm4lr0000gn/T/ipykernel_78015/200599443.py:37: SettingWithCopyWarning: \n",
      "A value is trying to be set on a copy of a slice from a DataFrame\n",
      "\n",
      "See the caveats in the documentation: https://pandas.pydata.org/pandas-docs/stable/user_guide/indexing.html#returning-a-view-versus-a-copy\n",
      "  df.drop(columns=columns_to_drop, inplace=True)\n"
     ]
    }
   ],
   "execution_count": 6
  },
  {
   "cell_type": "code",
   "id": "ed14923a-69e8-4335-8c02-0b02e6f74cee",
   "metadata": {
    "ExecuteTime": {
     "end_time": "2025-07-15T18:10:59.681549Z",
     "start_time": "2025-07-15T18:10:59.648539Z"
    }
   },
   "source": [
    "for i in df.columns:\n",
    "    \n",
    "    missing_pct = (df[i].isna().sum() / df.shape[0]) * 100\n",
    "    print(f\"{i}\\t{missing_pct:.2f}%\")"
   ],
   "outputs": [
    {
     "name": "stdout",
     "output_type": "stream",
     "text": [
      "astrometric_n_good_obs_al\t0.00%\n",
      "astrometric_n_bad_obs_al\t0.00%\n",
      "astrometric_n_obs_al\t0.00%\n",
      "astrometric_gof_al\t0.00%\n",
      "astrometric_excess_noise\t0.00%\n",
      "astrometric_params_solved\t0.00%\n",
      "astrometric_primary_flag\t0.00%\n",
      "astrometric_matched_transits\t0.00%\n",
      "visibility_periods_used\t0.00%\n",
      "astrometric_sigma5d_max\t0.00%\n",
      "ruwe\t0.00%\n",
      "ipd_gof_harmonic_amplitude\t0.00%\n",
      "ipd_frac_multi_peak\t0.00%\n",
      "ipd_frac_odd_win\t0.00%\n",
      "duplicated_source\t0.00%\n",
      "phot_g_mean_flux_over_error\t0.00%\n",
      "phot_bp_mean_flux_over_error\t0.00%\n",
      "phot_rp_mean_flux_over_error\t0.00%\n",
      "phot_bp_n_contaminated_transits\t0.00%\n",
      "phot_rp_n_contaminated_transits\t0.00%\n",
      "phot_bp_n_blended_transits\t0.00%\n",
      "phot_rp_n_blended_transits\t0.00%\n",
      "phot_bp_rp_excess_factor\t0.00%\n",
      "bp_rp\t0.00%\n",
      "bp_g\t0.00%\n",
      "g_rp\t0.00%\n",
      "ra\t0.00%\n",
      "dec\t0.00%\n",
      "l\t0.00%\n",
      "b\t0.00%\n",
      "ecl_lon\t0.00%\n",
      "ecl_lat\t0.00%\n",
      "in_qso_candidates\t0.00%\n",
      "in_galaxy_candidates\t0.00%\n",
      "non_single_star\t0.00%\n",
      "classprob_dsc_combmod_galaxy\t0.00%\n",
      "classprob_dsc_combmod_quasar\t0.00%\n",
      "has_rvs\t0.00%\n",
      "has_xp_sampled\t0.00%\n",
      "has_mcmc_gspphot\t0.00%\n",
      "phot_g_mean_mag\t0.00%\n",
      "phot_bp_mean_mag\t0.00%\n",
      "phot_rp_mean_mag\t0.00%\n",
      "designation\t0.00%\n",
      "pmra\t0.00%\n",
      "pmdec\t0.00%\n",
      "parallax\t0.00%\n",
      "scan_diversity_ratio\t3.26%\n"
     ]
    }
   ],
   "execution_count": 7
  },
  {
   "cell_type": "code",
   "id": "699fa934-82f4-4715-b48d-d282c3a73f3d",
   "metadata": {
    "ExecuteTime": {
     "end_time": "2025-07-15T18:11:02.855372Z",
     "start_time": "2025-07-15T18:11:02.852471Z"
    }
   },
   "source": [
    "df.shape"
   ],
   "outputs": [
    {
     "data": {
      "text/plain": [
       "(443796, 48)"
      ]
     },
     "execution_count": 8,
     "metadata": {},
     "output_type": "execute_result"
    }
   ],
   "execution_count": 8
  },
  {
   "cell_type": "code",
   "id": "88e65cff-ee77-46e0-bbe7-3a3ab725b51b",
   "metadata": {
    "ExecuteTime": {
     "end_time": "2025-07-15T18:11:04.866712Z",
     "start_time": "2025-07-15T18:11:04.802002Z"
    }
   },
   "source": [
    "\n",
    "\n",
    "def safe_condition(df, col, condition, default=True):\n",
    "    return condition.where(df[col].notna(), default) if col in df.columns else pd.Series([default] * len(df), index=df.index)\n",
    "\n",
    "mask = (\n",
    "    safe_condition(df, \"astrometric_n_good_obs_al\", df[\"astrometric_n_good_obs_al\"] >= 15) &\n",
    "    safe_condition(df, \"astrometric_n_bad_obs_al\", df[\"astrometric_n_bad_obs_al\"] <= 5) &\n",
    "    \n",
    "    safe_condition(df, \"astrometric_excess_noise\", df[\"astrometric_excess_noise\"] < 1) &\n",
    "    safe_condition(df, \"astrometric_params_solved\", df[\"astrometric_params_solved\"] !=3) &\n",
    "    \n",
    "    safe_condition(df, \"astrometric_sigma5d_max\", df[\"astrometric_sigma5d_max\"] <= 2) &\n",
    "\n",
    "    safe_condition(df, \"ruwe\", df[\"ruwe\"] < 1.4)&\n",
    "    safe_condition(df, \"ipd_frac_odd_win\", df[\"ipd_frac_odd_win\"] < 0.1) &\n",
    "\n",
    "    safe_condition(df, \"scan_diversity_ratio\", df[\"scan_diversity_ratio\"] <= 0.8)&\n",
    "\n",
    "    safe_condition(df, \"bp_rp\", df[\"bp_rp\"] > -1) &\n",
    "\n",
    "    \n",
    "    safe_condition(df, \"duplicated_source\", df[\"duplicated_source\"] == False) &\n",
    "\n",
    "    safe_condition(df, \"phot_g_mean_flux_over_error\", df[\"phot_g_mean_flux_over_error\"] > 10)&\n",
    "    \n",
    "    safe_condition(df, \"phot_bp_n_contaminated_transits\", df[\"phot_bp_n_contaminated_transits\"] <= 2) &\n",
    "    safe_condition(df, \"phot_rp_n_contaminated_transits\", df[\"phot_rp_n_contaminated_transits\"] <= 2) &\n",
    "    safe_condition(df, \"phot_bp_n_blended_transits\", df[\"phot_bp_n_blended_transits\"] <= 3) &\n",
    "    safe_condition(df, \"phot_rp_n_blended_transits\", df[\"phot_rp_n_blended_transits\"] <= 3) &\n",
    "\n",
    "    (\n",
    "    safe_condition(\n",
    "        df,\n",
    "        \"phot_bp_rp_excess_factor\",\n",
    "        df[\"phot_bp_rp_excess_factor\"] < (1.3 + 0.06 * df[\"bp_rp\"] ** 2)\n",
    "    )\n",
    "    if \"phot_bp_rp_excess_factor\" in df.columns and \"bp_rp\" in df.columns\n",
    "    else pd.Series([True] * len(df), index=df.index)\n",
    "    )&\n",
    "    \n",
    "    \n",
    "    safe_condition(df, \"non_single_star\", df[\"non_single_star\"] == 0) &\n",
    "    #quarar - black hole emitting light\n",
    "    safe_condition(df, \"in_qso_candidates\", df[\"in_qso_candidates\"] == False) &\n",
    "    safe_condition(df, \"in_galaxy_candidates\", df[\"in_galaxy_candidates\"] == False) \n",
    ")\n",
    "\n",
    "df_filtered = df[mask].copy()\n"
   ],
   "outputs": [],
   "execution_count": 9
  },
  {
   "cell_type": "code",
   "id": "6c856479-1500-4026-998a-4d798ff1fa0f",
   "metadata": {
    "ExecuteTime": {
     "end_time": "2025-07-15T18:11:07.457388Z",
     "start_time": "2025-07-15T18:11:07.454351Z"
    }
   },
   "source": [
    "df_filtered.shape"
   ],
   "outputs": [
    {
     "data": {
      "text/plain": [
       "(300688, 48)"
      ]
     },
     "execution_count": 10,
     "metadata": {},
     "output_type": "execute_result"
    }
   ],
   "execution_count": 10
  },
  {
   "cell_type": "code",
   "id": "40283051-085f-49a4-a68f-f70cb283a5d0",
   "metadata": {
    "ExecuteTime": {
     "end_time": "2025-07-15T18:11:08.686308Z",
     "start_time": "2025-07-15T18:11:08.661162Z"
    }
   },
   "source": [
    "for i in df_filtered.columns:\n",
    "    \n",
    "    missing_pct = (df_filtered[i].isna().sum() / df_filtered.shape[0]) * 100\n",
    "    print(f\"{i}\\t{missing_pct:.2f}%\")"
   ],
   "outputs": [
    {
     "name": "stdout",
     "output_type": "stream",
     "text": [
      "astrometric_n_good_obs_al\t0.00%\n",
      "astrometric_n_bad_obs_al\t0.00%\n",
      "astrometric_n_obs_al\t0.00%\n",
      "astrometric_gof_al\t0.00%\n",
      "astrometric_excess_noise\t0.00%\n",
      "astrometric_params_solved\t0.00%\n",
      "astrometric_primary_flag\t0.00%\n",
      "astrometric_matched_transits\t0.00%\n",
      "visibility_periods_used\t0.00%\n",
      "astrometric_sigma5d_max\t0.00%\n",
      "ruwe\t0.00%\n",
      "ipd_gof_harmonic_amplitude\t0.00%\n",
      "ipd_frac_multi_peak\t0.00%\n",
      "ipd_frac_odd_win\t0.00%\n",
      "duplicated_source\t0.00%\n",
      "phot_g_mean_flux_over_error\t0.00%\n",
      "phot_bp_mean_flux_over_error\t0.00%\n",
      "phot_rp_mean_flux_over_error\t0.00%\n",
      "phot_bp_n_contaminated_transits\t0.00%\n",
      "phot_rp_n_contaminated_transits\t0.00%\n",
      "phot_bp_n_blended_transits\t0.00%\n",
      "phot_rp_n_blended_transits\t0.00%\n",
      "phot_bp_rp_excess_factor\t0.00%\n",
      "bp_rp\t0.00%\n",
      "bp_g\t0.00%\n",
      "g_rp\t0.00%\n",
      "ra\t0.00%\n",
      "dec\t0.00%\n",
      "l\t0.00%\n",
      "b\t0.00%\n",
      "ecl_lon\t0.00%\n",
      "ecl_lat\t0.00%\n",
      "in_qso_candidates\t0.00%\n",
      "in_galaxy_candidates\t0.00%\n",
      "non_single_star\t0.00%\n",
      "classprob_dsc_combmod_galaxy\t0.00%\n",
      "classprob_dsc_combmod_quasar\t0.00%\n",
      "has_rvs\t0.00%\n",
      "has_xp_sampled\t0.00%\n",
      "has_mcmc_gspphot\t0.00%\n",
      "phot_g_mean_mag\t0.00%\n",
      "phot_bp_mean_mag\t0.00%\n",
      "phot_rp_mean_mag\t0.00%\n",
      "designation\t0.00%\n",
      "pmra\t0.00%\n",
      "pmdec\t0.00%\n",
      "parallax\t0.00%\n",
      "scan_diversity_ratio\t3.67%\n"
     ]
    }
   ],
   "execution_count": 11
  },
  {
   "cell_type": "code",
   "id": "8664a2c0-6653-40db-9ab7-755c978cc1f7",
   "metadata": {
    "ExecuteTime": {
     "end_time": "2025-07-15T18:11:10.787194Z",
     "start_time": "2025-07-15T18:11:10.784885Z"
    }
   },
   "source": [
    "pd.set_option('display.max_columns', None) "
   ],
   "outputs": [],
   "execution_count": 12
  },
  {
   "cell_type": "code",
   "id": "1dcb5bf9-29d1-4c87-a4c0-72cb44260c4f",
   "metadata": {
    "ExecuteTime": {
     "end_time": "2025-07-15T18:11:11.484184Z",
     "start_time": "2025-07-15T18:11:11.467354Z"
    }
   },
   "source": [
    "# List of features you want to retain\n",
    "selected_columns = [\n",
    "    \"phot_g_mean_mag\", \"phot_bp_mean_mag\", \"phot_rp_mean_mag\", \"bp_rp\",\n",
    "     \"has_rvs\",\n",
    "    \"ra\", \"dec\", \"parallax\", \"pmra\", \"pmdec\",\n",
    "    \"designation\"\n",
    "]\n",
    "\n",
    "# Keep only those columns that exist in the DataFrame\n",
    "existing_columns = [col for col in selected_columns if col in df_filtered.columns]\n",
    "\n",
    "# Filter the DataFrame\n",
    "df_selected = df_filtered[existing_columns].copy()\n",
    "\n",
    "# Optional: show shape and preview\n",
    "print(f\"Selected columns: {len(existing_columns)}\")\n",
    "df_selected.head()"
   ],
   "outputs": [
    {
     "name": "stdout",
     "output_type": "stream",
     "text": [
      "Selected columns: 11\n"
     ]
    },
    {
     "data": {
      "text/plain": [
       "   phot_g_mean_mag  phot_bp_mean_mag  phot_rp_mean_mag     bp_rp  has_rvs  \\\n",
       "0        17.641426         18.080235         17.061232  1.019003    False   \n",
       "1        17.571619         18.860890         16.402643  2.458247    False   \n",
       "2        14.128453         14.703050         13.410816  1.292234    False   \n",
       "3        19.597301         20.723095         18.376310  2.346785    False   \n",
       "4        18.135033         18.723412         17.453007  1.270405    False   \n",
       "\n",
       "          ra       dec  parallax       pmra      pmdec            designation  \n",
       "0  44.996155  0.005615  0.354331  11.938352  -4.080619    Gaia DR3 4295806720  \n",
       "1  45.004320  0.021048  3.235017  29.518344  19.231655   Gaia DR3 34361129088  \n",
       "2  45.004978  0.019880  3.139170  29.686339  19.115200   Gaia DR3 38655544960  \n",
       "3  44.995037  0.038152  1.383150   0.710339  -1.290122  Gaia DR3 309238066432  \n",
       "4  44.963896  0.043595  0.196148   6.567299  -1.930905  Gaia DR3 343597448960  "
      ],
      "text/html": [
       "<div>\n",
       "<style scoped>\n",
       "    .dataframe tbody tr th:only-of-type {\n",
       "        vertical-align: middle;\n",
       "    }\n",
       "\n",
       "    .dataframe tbody tr th {\n",
       "        vertical-align: top;\n",
       "    }\n",
       "\n",
       "    .dataframe thead th {\n",
       "        text-align: right;\n",
       "    }\n",
       "</style>\n",
       "<table border=\"1\" class=\"dataframe\">\n",
       "  <thead>\n",
       "    <tr style=\"text-align: right;\">\n",
       "      <th></th>\n",
       "      <th>phot_g_mean_mag</th>\n",
       "      <th>phot_bp_mean_mag</th>\n",
       "      <th>phot_rp_mean_mag</th>\n",
       "      <th>bp_rp</th>\n",
       "      <th>has_rvs</th>\n",
       "      <th>ra</th>\n",
       "      <th>dec</th>\n",
       "      <th>parallax</th>\n",
       "      <th>pmra</th>\n",
       "      <th>pmdec</th>\n",
       "      <th>designation</th>\n",
       "    </tr>\n",
       "  </thead>\n",
       "  <tbody>\n",
       "    <tr>\n",
       "      <th>0</th>\n",
       "      <td>17.641426</td>\n",
       "      <td>18.080235</td>\n",
       "      <td>17.061232</td>\n",
       "      <td>1.019003</td>\n",
       "      <td>False</td>\n",
       "      <td>44.996155</td>\n",
       "      <td>0.005615</td>\n",
       "      <td>0.354331</td>\n",
       "      <td>11.938352</td>\n",
       "      <td>-4.080619</td>\n",
       "      <td>Gaia DR3 4295806720</td>\n",
       "    </tr>\n",
       "    <tr>\n",
       "      <th>1</th>\n",
       "      <td>17.571619</td>\n",
       "      <td>18.860890</td>\n",
       "      <td>16.402643</td>\n",
       "      <td>2.458247</td>\n",
       "      <td>False</td>\n",
       "      <td>45.004320</td>\n",
       "      <td>0.021048</td>\n",
       "      <td>3.235017</td>\n",
       "      <td>29.518344</td>\n",
       "      <td>19.231655</td>\n",
       "      <td>Gaia DR3 34361129088</td>\n",
       "    </tr>\n",
       "    <tr>\n",
       "      <th>2</th>\n",
       "      <td>14.128453</td>\n",
       "      <td>14.703050</td>\n",
       "      <td>13.410816</td>\n",
       "      <td>1.292234</td>\n",
       "      <td>False</td>\n",
       "      <td>45.004978</td>\n",
       "      <td>0.019880</td>\n",
       "      <td>3.139170</td>\n",
       "      <td>29.686339</td>\n",
       "      <td>19.115200</td>\n",
       "      <td>Gaia DR3 38655544960</td>\n",
       "    </tr>\n",
       "    <tr>\n",
       "      <th>3</th>\n",
       "      <td>19.597301</td>\n",
       "      <td>20.723095</td>\n",
       "      <td>18.376310</td>\n",
       "      <td>2.346785</td>\n",
       "      <td>False</td>\n",
       "      <td>44.995037</td>\n",
       "      <td>0.038152</td>\n",
       "      <td>1.383150</td>\n",
       "      <td>0.710339</td>\n",
       "      <td>-1.290122</td>\n",
       "      <td>Gaia DR3 309238066432</td>\n",
       "    </tr>\n",
       "    <tr>\n",
       "      <th>4</th>\n",
       "      <td>18.135033</td>\n",
       "      <td>18.723412</td>\n",
       "      <td>17.453007</td>\n",
       "      <td>1.270405</td>\n",
       "      <td>False</td>\n",
       "      <td>44.963896</td>\n",
       "      <td>0.043595</td>\n",
       "      <td>0.196148</td>\n",
       "      <td>6.567299</td>\n",
       "      <td>-1.930905</td>\n",
       "      <td>Gaia DR3 343597448960</td>\n",
       "    </tr>\n",
       "  </tbody>\n",
       "</table>\n",
       "</div>"
      ]
     },
     "execution_count": 13,
     "metadata": {},
     "output_type": "execute_result"
    }
   ],
   "execution_count": 13
  },
  {
   "cell_type": "code",
   "id": "ab4d301f-1801-4344-93ae-e34c5b4dfab4",
   "metadata": {
    "ExecuteTime": {
     "end_time": "2025-07-15T18:11:16.282047Z",
     "start_time": "2025-07-15T18:11:16.269806Z"
    }
   },
   "source": [
    "for i in df_selected.columns:\n",
    "    \n",
    "    missing_pct = (df_selected[i].isna().sum() / df_selected.shape[0]) * 100\n",
    "    print(f\"{i}\\t{missing_pct:.2f}%\")"
   ],
   "outputs": [
    {
     "name": "stdout",
     "output_type": "stream",
     "text": [
      "phot_g_mean_mag\t0.00%\n",
      "phot_bp_mean_mag\t0.00%\n",
      "phot_rp_mean_mag\t0.00%\n",
      "bp_rp\t0.00%\n",
      "has_rvs\t0.00%\n",
      "ra\t0.00%\n",
      "dec\t0.00%\n",
      "parallax\t0.00%\n",
      "pmra\t0.00%\n",
      "pmdec\t0.00%\n",
      "designation\t0.00%\n"
     ]
    }
   ],
   "execution_count": 14
  },
  {
   "cell_type": "code",
   "id": "c35cb1c9-96ed-4e55-b8d6-f02d0434e0cc",
   "metadata": {
    "scrolled": true,
    "ExecuteTime": {
     "end_time": "2025-07-15T18:11:23.588691Z",
     "start_time": "2025-07-15T18:11:23.585025Z"
    }
   },
   "source": [
    "df_selected.shape"
   ],
   "outputs": [
    {
     "data": {
      "text/plain": [
       "(300688, 11)"
      ]
     },
     "execution_count": 15,
     "metadata": {},
     "output_type": "execute_result"
    }
   ],
   "execution_count": 15
  },
  {
   "cell_type": "code",
   "id": "40b60bbb-fc23-422d-ac4f-6da63f6d63a8",
   "metadata": {
    "ExecuteTime": {
     "end_time": "2025-07-15T18:38:08.081841Z",
     "start_time": "2025-07-15T18:38:08.078224Z"
    }
   },
   "source": "df['radial_velocity'].isnull().sum()",
   "outputs": [
    {
     "data": {
      "text/plain": [
       "495606"
      ]
     },
     "execution_count": 19,
     "metadata": {},
     "output_type": "execute_result"
    }
   ],
   "execution_count": 19
  },
  {
   "metadata": {},
   "cell_type": "code",
   "outputs": [],
   "execution_count": null,
   "source": "",
   "id": "66014d193f1d5c64"
  }
 ],
 "metadata": {
  "kernelspec": {
   "display_name": "Python 3 (ipykernel)",
   "language": "python",
   "name": "python3"
  },
  "language_info": {
   "codemirror_mode": {
    "name": "ipython",
    "version": 3
   },
   "file_extension": ".py",
   "mimetype": "text/x-python",
   "name": "python",
   "nbconvert_exporter": "python",
   "pygments_lexer": "ipython3",
   "version": "3.13.5"
  }
 },
 "nbformat": 4,
 "nbformat_minor": 5
}
